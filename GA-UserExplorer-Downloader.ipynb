{
 "cells": [
  {
   "cell_type": "markdown",
   "metadata": {},
   "source": [
    "## 1. Pythonの準備とGAアクセス\n",
    "\n",
    "PythonのseleniumとChromeDriverを事前にインストールしておく。\n",
    "- pip install selenium\n",
    "- pip install chromedriver_binary\n",
    "\n",
    "動作確認したのはMacのChromeのみ。"
   ]
  },
  {
   "cell_type": "code",
   "execution_count": null,
   "metadata": {},
   "outputs": [],
   "source": [
    "dir_chrome_prof = '/Users/mak/Dropbox/Apps/Chrome-User-Data/mak00s'\n",
    "dir_download    = '/Users/mak/Downloads/auto'\n",
    "file_csv = dir_download + '/user-report-ALL-processed.csv'\n",
    "\n",
    "url_ga = 'https://analytics.google.com/analytics/web/'\n",
    "\n",
    "from selenium import webdriver\n",
    "import chromedriver_binary\n",
    "from selenium.webdriver.common.keys import Keys\n",
    "from selenium.webdriver.common.by import By\n",
    "from selenium.webdriver.support.ui import WebDriverWait\n",
    "from selenium.webdriver.support import expected_conditions as EC\n",
    "from selenium.common.exceptions import NoSuchElementException\n",
    "\n",
    "# Chromeの準備\n",
    "options = webdriver.ChromeOptions()\n",
    "options.add_argument('--user-data-dir=' + dir_chrome_prof)\n",
    "prefs = {\"download.default_directory\": dir_download}\n",
    "options.add_experimental_option('prefs', prefs)\n",
    "browser = webdriver.Chrome(options = options)\n",
    "#browser.implicitly_wait(10)\n",
    "\n",
    "# Google Analyticsにアクセス\n",
    "browser.get(url_ga)"
   ]
  },
  {
   "cell_type": "markdown",
   "metadata": {},
   "source": [
    "## 2. GAにログイン\n",
    "別ウィンドウでChromeが起動するので、手動でログインし、該当のビューに切り替えてから次へ進む。"
   ]
  },
  {
   "cell_type": "code",
   "execution_count": null,
   "metadata": {
    "inputHidden": false,
    "outputHidden": false
   },
   "outputs": [],
   "source": [
    "username = 'xxx@gmail.com'\n",
    "#keyring.set_password('google', username, 'xxx') # 最初のみパスワードを保存しておく\n",
    "\n",
    "# ログイン\n",
    "import keyring\n",
    "pwd = keyring.get_password('google', username) # 2回目以降はパスワードを取り出せる\n",
    "\n",
    "inputElement = browser.find_element_by_id(\"identifierId\")\n",
    "inputElement.send_keys(username)\n",
    "inputElement.send_keys(Keys.ENTER)"
   ]
  },
  {
   "cell_type": "markdown",
   "metadata": {},
   "source": [
    "## 3. GAを自動操作してJSONをDownload\n",
    "ユーザーエクスプローラの画面を開く。"
   ]
  },
  {
   "cell_type": "code",
   "execution_count": null,
   "metadata": {},
   "outputs": [],
   "source": [
    "# URLからIDを取得\n",
    "import re\n",
    "m = re.search('/([a-z0-9]+)/?$', browser.current_url)\n",
    "if m:\n",
    "    reportId = m.group(1)\n",
    "    print(reportId)\n",
    "    # User Explorerの画面を開く\n",
    "    browser.get(url_ga + '#/report/visitors-legacy-user-id/' + reportId + '/')"
   ]
  },
  {
   "cell_type": "markdown",
   "metadata": {},
   "source": [
    "ユーザーエクスプローラの画面が開いたら、日付やセグメント、「表示する行数」を必要に応じて変更しておく。この画面に表示されたClient IDを取得することになる。\n",
    "\n",
    "注意：Chromeの場合、重複ファイル名の自動変更は99までであり、101ファイル目で保存ダイアログが出るがクリックは継続してしまうので、行数は100を推奨。"
   ]
  },
  {
   "cell_type": "code",
   "execution_count": null,
   "metadata": {
    "inputHidden": false,
    "outputHidden": false
   },
   "outputs": [],
   "source": [
    "# Client IDのリストを画面から取得\n",
    "iframe=browser.find_element_by_xpath('//iframe[@id=\"galaxyIframe\"]')\n",
    "browser.switch_to.frame(iframe)\n",
    "elem = browser.find_elements_by_css_selector('#ID-rowTable div.C_USER_LIST_TEXT_DIV')\n",
    "cid = []\n",
    "for index in range(len(elem)):\n",
    "    cid.append(browser.find_elements_by_css_selector('#ID-rowTable div.C_USER_LIST_TEXT_DIV')[index].text)\n",
    "\n",
    "print(str(len(cid)) + ' Client IDs were identified: ' + cid[0] + ' - ' + cid[-1])"
   ]
  },
  {
   "cell_type": "code",
   "execution_count": null,
   "metadata": {
    "inputHidden": false,
    "outputHidden": false
   },
   "outputs": [],
   "source": [
    "# リストからIDを見つけてクリックしていく\n",
    "import sys\n",
    "downloaded = []\n",
    "for i in range(len(cid)):\n",
    "    try:\n",
    "        WebDriverWait(browser, 20).until(EC.presence_of_element_located((By.ID, 'ID-rowTable')))\n",
    "        try:\n",
    "            WebDriverWait(browser, 20).until(EC.element_to_be_clickable((By.XPATH, '//*[text()=\"' + cid[i] + '\"]'))).click()\n",
    "            WebDriverWait(browser, 20).until(EC.element_to_be_clickable((By.CSS_SELECTOR, \"button[data-name='ID-export']\"))).click()\n",
    "            print('Downloading ' + str(i+1) + '/' + str(len(cid)) + ': ' + cid[i])\n",
    "            downloaded.append(cid[i])\n",
    "            WebDriverWait(browser, 20).until(EC.element_to_be_clickable((By.CSS_SELECTOR, \"div.ACTION-back\"))).click()\n",
    "        except:\n",
    "            print('Skipping ' + str(i+1) + ' due to error ', sys.exc_info()[0])\n",
    "    except:\n",
    "        print(\"Couldn't get back to a list of Client IDs.\", sys.exc_info()[0])\n",
    "print(str(len(downloaded)) + ' JSON files were downloaded.')"
   ]
  },
  {
   "cell_type": "markdown",
   "metadata": {
    "inputHidden": false,
    "outputHidden": false
   },
   "source": [
    "## 4. Downloadされた複数のJSONファイルを加工"
   ]
  },
  {
   "cell_type": "markdown",
   "metadata": {},
   "source": [
    "JSONをフラットに開く参考：\n",
    "- https://stackoverflow.com/questions/39899005/how-to-flatten-a-pandas-dataframe-with-some-columns-as-json/39906235\n",
    "- https://note.nkmk.me/python-pandas-json-normalize/\n",
    "- https://www.dataquest.io/blog/python-json-tutorial/"
   ]
  },
  {
   "cell_type": "code",
   "execution_count": null,
   "metadata": {},
   "outputs": [],
   "source": [
    "import pandas as pd\n",
    "#pd.options.display.html.table_schema = True\n",
    "from pandas.io.json import json_normalize\n",
    "import json\n",
    "import glob\n",
    "import os.path\n",
    "\n",
    "# ファイルを読み込む\n",
    "files = glob.glob(dir_download + '/user-report-export*.json').sort(key=os.path.getmtime)\n",
    "df2 = pd.DataFrame()\n",
    "\n",
    "for file_ in files:\n",
    "    print('opening ' + file_.split('/')[-1])\n",
    "    with open(file_, 'r') as f:\n",
    "        data = json.load(f)\n",
    "    # 最下層をレコードの単位にしつつpandasのDataFrameに変換する\n",
    "    df = json_normalize(data['dates'], record_path=['sessions', 'activities', 'details'],\n",
    "                              meta=['date', ['sessions', 'channel'], ['sessions', 'deviceCategory'],\n",
    "                                   ['sessions', 'activities', 'time']])    \n",
    "    # カラム名を変換\n",
    "    d = {'ページの': 'Page', 'タイトル': ' title', 'イベント( |の)?': 'Event ',\n",
    "         'カテゴリ': 'category', 'アクション': 'action', 'ラベル': 'label',\n",
    "         '値': 'value', '目標( |の)?': 'Goal ', '完了数': 'completion(s)',\n",
    "         '番号': 'index', '名': 'name', '数': 'count'}\n",
    "    df.columns = df.columns.to_series().replace(d, regex=True)\n",
    "    # ファイル名のカラムを追加\n",
    "    df['User'] = re.sub(r'^.*\\/', '', file_)\n",
    "    # 値を変換\n",
    "    df.replace({'sessions.activities.time': r'午前'}, {'sessions.activities.time': 'AM'}, inplace=True, regex=True)\n",
    "    df.replace({'sessions.activities.time': r'午後'}, {'sessions.activities.time': 'PM'}, inplace=True, regex=True)\n",
    "    df['Page URL'] = df['Page URL'].apply(lambda x: x[0] if isinstance(x, list) else x)\n",
    "    df['Page title'] = df['Page title'].apply(lambda x: x[0] if isinstance(x, list) else x)\n",
    "    # 日付と時間を統合\n",
    "    df['dateTime'] = pd.to_datetime(df['date'] + ' ' + df['sessions.activities.time'])\n",
    "    df.drop(['date', 'sessions.activities.time'], axis=1, inplace=True)\n",
    "    # カラム名を変更\n",
    "    df.rename(columns={'sessions.channel': 'Channel',\n",
    "                       'sessions.deviceCategory': 'Device'}, inplace=True)\n",
    "    # データフレームを結合\n",
    "    df2 = pd.concat([df2, df], sort=False).sort_values(['User','dateTime'])\n",
    "\n",
    "# ページURLからindex.htmlをカット\n",
    "df2['Page URL'].replace('index.html', '', regex=True, inplace=True)\n",
    "# URLパラメータを削除\n",
    "df2['Page URL'].replace('[\\?&](fbclid|paged|page|rk|no)=.*', '', regex=True, inplace=True)\n",
    "# ページタイトルからサイト名をカット\n",
    "df2['Page title'].replace(' ?[|｜│-][^|｜│-]+$', '', regex=True, inplace=True)\n",
    "# CSVファイル名のうち数字部分のみをUserとする\n",
    "df2['User'].replace('[^\\d]', '', regex=True, inplace=True)\n",
    "# Userごとに連番をふる\n",
    "df2['order'] = df2.groupby('User').cumcount() + 1\n",
    "# Eventの配列を結合しフラットに\n",
    "df2['Event action']=df2['Event action'].apply(lambda x:\",\".join(x) if pd.notnull(x) else x)\n",
    "df2['Event category']=df2['Event category'].apply(lambda x:\",\".join(x) if pd.notnull(x) else x)\n",
    "df2['Event label']=df2['Event label'].apply(lambda x:\",\".join(x) if pd.notnull(x) else x)"
   ]
  },
  {
   "cell_type": "markdown",
   "metadata": {},
   "source": [
    "## 5. CSV保存"
   ]
  },
  {
   "cell_type": "code",
   "execution_count": null,
   "metadata": {},
   "outputs": [],
   "source": [
    "# 必要なカラムだけ残してCSV保存\n",
    "df2[['User','Channel','Device','order','dateTime','Page URL',\n",
    "     'Page title','Event category','Event action','Event label']\n",
    "   ].to_csv(file_csv, header=True, index=False)"
   ]
  }
 ],
 "metadata": {
  "kernelspec": {
   "display_name": "Python 3",
   "language": "python",
   "name": "python3"
  },
  "language_info": {
   "codemirror_mode": {
    "name": "ipython",
    "version": 3
   },
   "file_extension": ".py",
   "mimetype": "text/x-python",
   "name": "python",
   "nbconvert_exporter": "python",
   "pygments_lexer": "ipython3",
   "version": "3.7.1"
  },
  "nteract": {
   "version": "nteract-on-jupyter@1.9.9"
  }
 },
 "nbformat": 4,
 "nbformat_minor": 2
}
